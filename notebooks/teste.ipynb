{
 "cells": [
  {
   "cell_type": "code",
   "execution_count": null,
   "metadata": {},
   "outputs": [],
   "source": [
    "import pandas as pd\n",
    "\n",
    "# Leitura dos arquivos CSV\n",
    "df_2021 = pd.read_csv('data/processed/2021Atracacao.csv')\n",
    "df_2022 = pd.read_csv('data/processed/2022Atracacao.csv')\n",
    "df_2023 = pd.read_csv('data/processed/2023Atracacao.csv')\n",
    "\n",
    "# Exibindo as primeiras linhas de cada DataFrame\n",
    "print(\"Dados de 2021:\")\n",
    "print(df_2021.head())\n",
    "print(\"\\nDados de 2022:\")\n",
    "print(df_2022.head())\n",
    "print(\"\\nDados de 2023:\")\n",
    "print(df_2023.head())\n",
    "\n",
    "# Informações básicas sobre os DataFrames\n",
    "print(\"\\nInformações do DataFrame 2021:\")\n",
    "print(df_2021.info())\n",
    "print(\"\\nInformações do DataFrame 2022:\")\n",
    "print(df_2022.info())\n",
    "print(\"\\nInformações do DataFrame 2023:\")\n",
    "print(df_2023.info())"
   ]
  },
  {
   "cell_type": "code",
   "execution_count": null,
   "metadata": {},
   "outputs": [],
   "source": []
  }
 ],
 "metadata": {
  "language_info": {
   "name": "python"
  }
 },
 "nbformat": 4,
 "nbformat_minor": 2
}
